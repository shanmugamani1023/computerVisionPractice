{
 "cells": [
  {
   "cell_type": "markdown",
   "metadata": {},
   "source": [
    "\n",
    "### **4. Edge Detection and Gradients**\n",
    "   - **Sobel Filter:**\n",
    "     - `cv2.Sobel()`: Compute image gradients.\n",
    "   \n",
    "   - **Laplacian Filter:**\n",
    "     - `cv2.Laplacian()`: Second-order derivatives for edge detection.\n",
    "   \n",
    "   - **Canny Edge Detection:**\n",
    "     - `cv2.Canny()`: Robust edge detection method."
   ]
  },
  {
   "cell_type": "code",
   "execution_count": 2,
   "metadata": {},
   "outputs": [],
   "source": [
    "import cv2\n",
    "image=cv2.imread(\"noisy.png\")"
   ]
  },
  {
   "cell_type": "code",
   "execution_count": 4,
   "metadata": {},
   "outputs": [],
   "source": [
    "image=cv2.resize(image,(320,320))\n",
    "sobel_x=cv2.Sobel(image,cv2.CV_64F,1,0,ksize=3)\n",
    "sobel_y=cv2.Sobel(image,cv2.CV_64F,0,1,ksize=3)\n",
    "\n",
    "\n",
    "\n",
    "cv2.imshow(\"sobel_x\",sobel_x)\n",
    "cv2.imshow(\"sobel_y\",sobel_y)\n",
    "\n",
    "cv2.imshow(\"input\",image)\n",
    "cv2.waitKey(0)\n",
    "cv2.destroyAllWindows()"
   ]
  },
  {
   "cell_type": "code",
   "execution_count": 5,
   "metadata": {},
   "outputs": [],
   "source": [
    "laplacian = cv2.Laplacian(image, cv2.CV_64F, ksize=3)\n",
    "cv2.imshow(\"input\",laplacian)\n",
    "cv2.waitKey(0)\n",
    "cv2.destroyAllWindows()"
   ]
  },
  {
   "cell_type": "code",
   "execution_count": 6,
   "metadata": {},
   "outputs": [],
   "source": [
    "edges  = cv2.Canny(image, threshold1=50, threshold2=150)\n",
    "cv2.imshow(\"input\",edges )\n",
    "cv2.waitKey(0)\n",
    "cv2.destroyAllWindows()     "
   ]
  },
  {
   "cell_type": "code",
   "execution_count": null,
   "metadata": {},
   "outputs": [],
   "source": []
  },
  {
   "cell_type": "code",
   "execution_count": null,
   "metadata": {},
   "outputs": [],
   "source": []
  },
  {
   "cell_type": "code",
   "execution_count": null,
   "metadata": {},
   "outputs": [],
   "source": []
  }
 ],
 "metadata": {
  "kernelspec": {
   "display_name": "computer_vision",
   "language": "python",
   "name": "python3"
  },
  "language_info": {
   "codemirror_mode": {
    "name": "ipython",
    "version": 3
   },
   "file_extension": ".py",
   "mimetype": "text/x-python",
   "name": "python",
   "nbconvert_exporter": "python",
   "pygments_lexer": "ipython3",
   "version": "3.12.7"
  }
 },
 "nbformat": 4,
 "nbformat_minor": 2
}
