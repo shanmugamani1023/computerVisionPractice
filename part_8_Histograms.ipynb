{
 "cells": [
  {
   "cell_type": "markdown",
   "metadata": {},
   "source": [
    "### **7. Histograms**\n",
    "   - **Histogram Calculation:**\n",
    "     - `cv2.calcHist()`: Compute histogram.\n",
    "   \n",
    "   - **Equalization:**\n",
    "     - `cv2.equalizeHist()`: Improve contrast in images.\n",
    "   \n",
    "   - **CLAHE (Contrast Limited Adaptive Histogram Equalization):**\n",
    "     - `cv2.createCLAHE()`: Adaptive method to improve local contrast."
   ]
  },
  {
   "cell_type": "code",
   "execution_count": 1,
   "metadata": {},
   "outputs": [
    {
     "name": "stderr",
     "output_type": "stream",
     "text": [
      "C:\\Users\\shanm\\AppData\\Local\\Temp\\ipykernel_16532\\2975036637.py:20: DeprecationWarning: Conversion of an array with ndim > 0 to a scalar is deprecated, and will error in future. Ensure you extract a single element from your array before performing this operation. (Deprecated NumPy 1.25.)\n",
      "  cv2.line(hist_img, (x, 300), (x, 300 - int(y)), 255)\n"
     ]
    }
   ],
   "source": [
    "import cv2\n",
    "import numpy as np\n",
    "\n",
    "# Load a grayscale image\n",
    "image = cv2.imread('low_contrast.png', 0)\n",
    "\n",
    "# Apply histogram equalization\n",
    "equalized_image = cv2.equalizeHist(image)\n",
    "\n",
    "# Function to compute and draw histogram as an image\n",
    "def draw_histogram(image):\n",
    "    hist = cv2.calcHist([image], [0], None, [256], [0, 256])\n",
    "    hist_img = np.zeros((300, 256), dtype=np.uint8)\n",
    "\n",
    "    # Normalize the histogram for better visualization\n",
    "    cv2.normalize(hist, hist, 0, hist_img.shape[0], cv2.NORM_MINMAX)\n",
    "\n",
    "    # Draw lines for each intensity level in the histogram\n",
    "    for x, y in enumerate(hist):\n",
    "        cv2.line(hist_img, (x, 300), (x, 300 - int(y)), 255)\n",
    "\n",
    "    return hist_img\n",
    "\n",
    "# Draw histograms for both original and equalized images\n",
    "original_hist = draw_histogram(image)\n",
    "equalized_hist = draw_histogram(equalized_image)\n",
    "\n",
    "# Display images and histograms\n",
    "cv2.imshow('Original Image', image)\n",
    "cv2.imshow('Equalized Image', equalized_image)\n",
    "cv2.imshow('Original Histogram', original_hist)\n",
    "cv2.imshow('Equalized Histogram', equalized_hist)\n",
    "\n",
    "# Wait for key press and close windows\n",
    "cv2.waitKey(0)\n",
    "cv2.destroyAllWindows()\n"
   ]
  },
  {
   "cell_type": "code",
   "execution_count": null,
   "metadata": {},
   "outputs": [],
   "source": []
  },
  {
   "cell_type": "code",
   "execution_count": null,
   "metadata": {},
   "outputs": [],
   "source": []
  }
 ],
 "metadata": {
  "kernelspec": {
   "display_name": "computer_vision",
   "language": "python",
   "name": "python3"
  },
  "language_info": {
   "codemirror_mode": {
    "name": "ipython",
    "version": 3
   },
   "file_extension": ".py",
   "mimetype": "text/x-python",
   "name": "python",
   "nbconvert_exporter": "python",
   "pygments_lexer": "ipython3",
   "version": "3.12.7"
  }
 },
 "nbformat": 4,
 "nbformat_minor": 2
}
