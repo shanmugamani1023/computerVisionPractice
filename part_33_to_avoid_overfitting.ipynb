{
 "cells": [
  {
   "cell_type": "markdown",
   "metadata": {},
   "source": [
    "### use all things learnt avoid overfiiting  (regularization)\n",
    "    1.l1 and l2 regularization\n",
    "    2.Data augmentation\n",
    "    3.Dropout\n",
    "    4.Earlystopping\n",
    "    5.ensemble models"
   ]
  },
  {
   "cell_type": "markdown",
   "metadata": {},
   "source": [
    "# 1.l1 and l2 regularization"
   ]
  },
  {
   "cell_type": "code",
   "execution_count": 3,
   "metadata": {
    "slideshow": {
     "slide_type": "notes"
    }
   },
   "outputs": [
    {
     "name": "stdout",
     "output_type": "stream",
     "text": [
      "Model: \"model\"\n",
      "_________________________________________________________________\n",
      " Layer (type)                Output Shape              Param #   \n",
      "=================================================================\n",
      " input_1 (InputLayer)        [(None, 28, 28)]          0         \n",
      "                                                                 \n",
      " flatten (Flatten)           (None, 784)               0         \n",
      "                                                                 \n",
      " dense (Dense)               (None, 512)               401920    \n",
      "                                                                 \n",
      " dense_1 (Dense)             (None, 128)               65664     \n",
      "                                                                 \n",
      " dense_2 (Dense)             (None, 10)                1290      \n",
      "                                                                 \n",
      "=================================================================\n",
      "Total params: 468,874\n",
      "Trainable params: 468,874\n",
      "Non-trainable params: 0\n",
      "_________________________________________________________________\n"
     ]
    }
   ],
   "source": [
    "import tensorflow as tf\n",
    "from tensorflow.keras import layers, Model, Input, regularizers\n",
    "\n",
    "# Define the model with L1 and L2 regularization\n",
    "inputs = Input(shape=(28, 28))\n",
    "x = layers.Flatten()(inputs)\n",
    "\n",
    "# Hidden layer with L1 regularization on weights\n",
    "x = layers.Dense(\n",
    "    units=512, \n",
    "    activation='relu', \n",
    "    kernel_regularizer=regularizers.l1(0.01)  # L1 regularization with factor 0.01\n",
    ")(x)\n",
    "\n",
    "# Hidden layer with L2 regularization on weights\n",
    "x = layers.Dense(\n",
    "    units=128, \n",
    "    activation='relu', \n",
    "    kernel_regularizer=regularizers.l2(0.01)  # L2 regularization with factor 0.01\n",
    ")(x)\n",
    "\n",
    "# Output layer with both L1 and L2 regularization\n",
    "outputs = layers.Dense(\n",
    "    units=10, \n",
    "    activation='softmax', \n",
    "    kernel_regularizer=regularizers.l1_l2(l1=0.01, l2=0.01)  # L1 and L2 regularization combined\n",
    ")(x)\n",
    "\n",
    "# Create the model\n",
    "model = Model(inputs=inputs, outputs=outputs)\n",
    "\n",
    "# Compile the model\n",
    "model.compile(optimizer='adam', \n",
    "              loss='sparse_categorical_crossentropy', \n",
    "              metrics=['accuracy'])\n",
    "\n",
    "# Print model summary\n",
    "model.summary()\n"
   ]
  },
  {
   "cell_type": "code",
   "execution_count": null,
   "metadata": {},
   "outputs": [],
   "source": []
  },
  {
   "cell_type": "markdown",
   "metadata": {},
   "source": [
    "# Basic Implementation of Dropout in Keras"
   ]
  },
  {
   "cell_type": "code",
   "execution_count": 4,
   "metadata": {},
   "outputs": [
    {
     "name": "stdout",
     "output_type": "stream",
     "text": [
      "Model: \"model_1\"\n",
      "_________________________________________________________________\n",
      " Layer (type)                Output Shape              Param #   \n",
      "=================================================================\n",
      " input_2 (InputLayer)        [(None, 28, 28)]          0         \n",
      "                                                                 \n",
      " flatten_1 (Flatten)         (None, 784)               0         \n",
      "                                                                 \n",
      " dense_3 (Dense)             (None, 512)               401920    \n",
      "                                                                 \n",
      " dropout (Dropout)           (None, 512)               0         \n",
      "                                                                 \n",
      " dense_4 (Dense)             (None, 128)               65664     \n",
      "                                                                 \n",
      " dropout_1 (Dropout)         (None, 128)               0         \n",
      "                                                                 \n",
      " dense_5 (Dense)             (None, 10)                1290      \n",
      "                                                                 \n",
      "=================================================================\n",
      "Total params: 468,874\n",
      "Trainable params: 468,874\n",
      "Non-trainable params: 0\n",
      "_________________________________________________________________\n"
     ]
    }
   ],
   "source": [
    "import tensorflow as tf\n",
    "from tensorflow.keras import layers, Model, Input\n",
    "\n",
    "# Define the model\n",
    "inputs = Input(shape=(28, 28))\n",
    "x = layers.Flatten()(inputs)\n",
    "\n",
    "# Hidden layer with Dropout (50% neurons will be dropped randomly)\n",
    "x = layers.Dense(units=512, activation='relu')(x)\n",
    "x = layers.Dropout(rate=0.5)(x)  # Dropout with 50% rate\n",
    "\n",
    "# Another hidden layer with Dropout\n",
    "x = layers.Dense(units=128, activation='relu')(x)\n",
    "x = layers.Dropout(rate=0.3)(x)  # Dropout with 30% rate\n",
    "\n",
    "# Output layer\n",
    "outputs = layers.Dense(units=10, activation='softmax')(x)\n",
    "\n",
    "# Create the model\n",
    "model = Model(inputs=inputs, outputs=outputs)\n",
    "\n",
    "# Compile the model\n",
    "model.compile(optimizer='adam', \n",
    "              loss='sparse_categorical_crossentropy', \n",
    "              metrics=['accuracy'])\n",
    "\n",
    "# Print model summary\n",
    "model.summary()\n"
   ]
  }
 ],
 "metadata": {
  "kernelspec": {
   "display_name": "tf",
   "language": "python",
   "name": "python3"
  },
  "language_info": {
   "codemirror_mode": {
    "name": "ipython",
    "version": 3
   },
   "file_extension": ".py",
   "mimetype": "text/x-python",
   "name": "python",
   "nbconvert_exporter": "python",
   "pygments_lexer": "ipython3",
   "version": "3.9.20"
  }
 },
 "nbformat": 4,
 "nbformat_minor": 2
}
