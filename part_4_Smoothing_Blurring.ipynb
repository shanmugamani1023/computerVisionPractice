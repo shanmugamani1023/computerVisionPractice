{
 "cells": [
  {
   "cell_type": "markdown",
   "metadata": {},
   "source": [
    "\n",
    "### **3. Image Smoothing/Blurring**\n",
    "   - **Average Blurring:**\n",
    "     - `cv2.blur()`: Apply simple averaging.\n",
    "   \n",
    "   - **Gaussian Blur:**\n",
    "     - `cv2.GaussianBlur()`: Apply Gaussian blur for noise reduction.\n",
    "   \n",
    "   - **Median Blur:**\n",
    "     - `cv2.medianBlur()`: For salt-and-pepper noise removal.\n",
    "   \n",
    "   - **Bilateral Filtering:**\n",
    "     - `cv2.bilateralFilter()`: Smoothing while preserving edges."
   ]
  },
  {
   "cell_type": "code",
   "execution_count": 12,
   "metadata": {},
   "outputs": [],
   "source": [
    "import cv2\n",
    "image=cv2.imread(\"noisy.png\")\n",
    "image=cv2.resize(image,(320,320))\n",
    "avg_blur=cv2.blur(image,(5,5))\n",
    "Gaussian=cv2.GaussianBlur(image,(5,5),0)\n",
    "medianBlur=cv2.medianBlur(image,5)\n",
    "bilateralFilter=cv2.bilateralFilter(image,9,sigmaColor=45,sigmaSpace=45)\n",
    "\n",
    "cv2.imshow(\"noisy\",image)\n",
    "cv2.imshow(\"avg_blur\",avg_blur)\n",
    "cv2.imshow(\"Gaussian\",Gaussian)\n",
    "cv2.imshow(\"bilateralFilter\",bilateralFilter)\n",
    "\n",
    "\n",
    "cv2.waitKey(0)\n",
    "cv2.destroyAllWindows()\n"
   ]
  },
  {
   "cell_type": "code",
   "execution_count": null,
   "metadata": {},
   "outputs": [],
   "source": []
  },
  {
   "cell_type": "code",
   "execution_count": null,
   "metadata": {},
   "outputs": [],
   "source": []
  },
  {
   "cell_type": "code",
   "execution_count": null,
   "metadata": {},
   "outputs": [],
   "source": []
  }
 ],
 "metadata": {
  "kernelspec": {
   "display_name": "computer_vision",
   "language": "python",
   "name": "python3"
  },
  "language_info": {
   "codemirror_mode": {
    "name": "ipython",
    "version": 3
   },
   "file_extension": ".py",
   "mimetype": "text/x-python",
   "name": "python",
   "nbconvert_exporter": "python",
   "pygments_lexer": "ipython3",
   "version": "3.12.7"
  }
 },
 "nbformat": 4,
 "nbformat_minor": 2
}
