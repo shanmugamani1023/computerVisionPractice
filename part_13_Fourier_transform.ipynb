{
 "cells": [
  {
   "cell_type": "markdown",
   "metadata": {
    "vscode": {
     "languageId": "plaintext"
    }
   },
   "source": [
    "### **13. Fourier Transform**\n",
    "   - **Fourier Transforms:**\n",
    "     - `cv2.dft()` and `cv2.idft()`: Frequency domain transformation."
   ]
  },
  {
   "cell_type": "markdown",
   "metadata": {
    "vscode": {
     "languageId": "plaintext"
    }
   },
   "source": [
    "### **What is the Frequency Domain?**\n",
    "\n",
    "The **frequency domain** is a way of representing a signal or an image in terms of the frequencies that make it up, instead of its original pixel values (spatial domain). In this context, frequency refers to **how rapidly the pixel intensities change** in an image. Transforming an image into the frequency domain helps analyze patterns, filter noise, or detect edges effectively.\n",
    "\n",
    "---\n",
    "\n",
    "### **Spatial Domain vs. Frequency Domain**\n",
    "\n",
    "- **Spatial Domain**: Image represented by individual pixel intensities (brightness values). \n",
    "  - Example: A grayscale image with intensity values for each pixel.\n",
    "  \n",
    "- **Frequency Domain**: The image is represented by **sinusoids** (waves) of varying frequencies. \n",
    "  - Example: Low-frequency components capture **smooth regions** (backgrounds), and high-frequency components capture **sharp changes** (edges or textures).\n",
    "\n",
    "---\n",
    "\n",
    "### **Concept of Frequency in Images**\n",
    "\n",
    "- **Low Frequencies**: Correspond to **slow changes** in intensity (e.g., large, smooth areas like the sky).\n",
    "- **High Frequencies**: Correspond to **rapid changes** (e.g., edges, textures, noise).\n",
    "\n",
    "Think of an image as a combination of these low- and high-frequency components. The **Fourier Transform** helps extract these frequencies.\n",
    "\n",
    "---\n",
    "\n",
    "### **How the Frequency Domain is Used?**\n",
    "\n",
    "1. **Noise Removal**:\n",
    "   - Noise is often found in high-frequency components. By filtering these out, the image becomes smoother (low-pass filtering).\n",
    "\n",
    "2. **Edge Detection**:\n",
    "   - Edges are high-frequency elements. By keeping high frequencies and discarding low ones, edges can be detected (high-pass filtering).\n",
    "\n",
    "3. **Image Compression**:\n",
    "   - In formats like JPEG, only a few significant frequency components are kept, while others are discarded to reduce file size.\n",
    "\n",
    "---\n",
    "\n",
    "### **Visualizing the Frequency Domain with Fourier Transform**\n",
    "\n",
    "- In the **magnitude spectrum** (output of Fourier Transform), the **center** holds the low frequencies (smooth components), and the **edges** contain the high frequencies (sharp details).\n",
    "- Brighter regions in the magnitude spectrum indicate higher frequency magnitudes.\n",
    "\n",
    "---\n",
    "\n",
    "### **Example of a Low vs. High-Frequency Image:**\n",
    "\n",
    "- **Low-Frequency Image**: A plain wall with no textures or patterns.\n",
    "- **High-Frequency Image**: A brick wall with visible edges and textures.\n",
    "\n",
    "---\n",
    "\n",
    "### **Summary**\n",
    "\n",
    "The **frequency domain** provides a different view of an image, showing its underlying frequency components. This perspective is essential for tasks like filtering, compression, and edge detection. The **Fourier Transform** helps switch between the spatial and frequency domains, revealing information that isn’t easily visible in the original pixel-based representation."
   ]
  },
  {
   "cell_type": "code",
   "execution_count": null,
   "metadata": {},
   "outputs": [],
   "source": []
  },
  {
   "cell_type": "markdown",
   "metadata": {
    "vscode": {
     "languageId": "plaintext"
    }
   },
   "source": [
    "### **13. Fourier Transform in OpenCV**\n",
    "\n",
    "The **Fourier Transform (FT)** is a mathematical technique that transforms a signal or image from the **spatial domain** (pixel intensities) to the **frequency domain**. It helps in analyzing the frequency components of an image, useful for applications like filtering and noise reduction.\n",
    "\n",
    "---\n",
    "\n",
    "### **Why Use Fourier Transform?**\n",
    "- Identifies **high-frequency noise** (e.g., sharp edges) and **low-frequency components** (e.g., smooth areas).\n",
    "- Enables **frequency-based filtering**, such as low-pass filters to remove noise and high-pass filters to detect edges.\n",
    "\n",
    "---\n",
    "\n",
    "### **Basic Functions in OpenCV:**\n",
    "- **`cv2.dft()`**: Performs the **Discrete Fourier Transform (DFT)**, converting an image from the spatial domain to the frequency domain.\n",
    "- **`cv2.idft()`**: Performs the **Inverse DFT**, converting it back to the spatial domain (reconstructed image).\n",
    "\n",
    "---\n",
    "\n",
    "### **Code Example: Fourier Transform in OpenCV**\n",
    "\n",
    "```python\n",
    "import cv2\n",
    "import numpy as np\n",
    "\n",
    "# Step 1: Load the image in grayscale\n",
    "image = cv2.imread('image.jpg', 0)\n",
    "\n",
    "# Step 2: Apply DFT to the image\n",
    "dft = cv2.dft(np.float32(image), flags=cv2.DFT_COMPLEX_OUTPUT)\n",
    "dft_shift = np.fft.fftshift(dft)  # Shift the zero frequency to the center\n",
    "\n",
    "# Step 3: Calculate the magnitude spectrum\n",
    "magnitude_spectrum = 20 * np.log(cv2.magnitude(dft_shift[:, :, 0], dft_shift[:, :, 1]))\n",
    "\n",
    "# Step 4: Display the magnitude spectrum\n",
    "cv2.imshow('Magnitude Spectrum', np.uint8(magnitude_spectrum))\n",
    "\n",
    "# Step 5: Apply inverse DFT to reconstruct the image\n",
    "dft_ishift = np.fft.ifftshift(dft_shift)\n",
    "reconstructed_image = cv2.idft(dft_ishift)\n",
    "reconstructed_image = cv2.magnitude(reconstructed_image[:, :, 0], reconstructed_image[:, :, 1])\n",
    "\n",
    "# Step 6: Display the original and reconstructed images\n",
    "cv2.imshow('Original Image', image)\n",
    "cv2.imshow('Reconstructed Image', np.uint8(reconstructed_image))\n",
    "cv2.waitKey(0)\n",
    "cv2.destroyAllWindows()\n",
    "```\n",
    "\n",
    "---\n",
    "\n",
    "### **Explanation:**\n",
    "\n",
    "1. **Load Image**: The input image is loaded in grayscale.\n",
    "2. **Apply DFT**: The **Discrete Fourier Transform** shifts the image to the frequency domain.\n",
    "3. **Magnitude Spectrum**: Displays the frequency components. Brighter regions represent high frequencies, and darker regions represent low frequencies.\n",
    "4. **Reconstruct Image**: The **Inverse DFT** converts the frequency domain back to the original spatial domain.\n",
    "\n",
    "---\n",
    "\n",
    "### **Applications of Fourier Transform in Computer Vision:**\n",
    "- **Noise Removal**: Apply low-pass filtering to remove high-frequency noise.\n",
    "- **Edge Detection**: Use high-pass filtering to detect edges.\n",
    "- **Image Compression**: JPEG compression uses DCT (a variant of FT) to store image data efficiently.\n",
    "- **Pattern Recognition**: Analyze frequency components to detect repetitive patterns.\n",
    "\n",
    "---\n",
    "\n",
    "### **Summary**\n",
    "Fourier Transform is a powerful tool for frequency-based image analysis. It offers insight into the frequency characteristics of an image, making it valuable for filtering and enhancement tasks in computer vision."
   ]
  },
  {
   "cell_type": "code",
   "execution_count": null,
   "metadata": {},
   "outputs": [],
   "source": []
  },
  {
   "cell_type": "code",
   "execution_count": 1,
   "metadata": {},
   "outputs": [],
   "source": [
    "import cv2\n",
    "import numpy as np\n",
    "\n",
    "# Step 1: Load the image in grayscale\n",
    "image = cv2.imread('noisy.png', 0)\n",
    "\n",
    "# Step 2: Apply DFT to the image\n",
    "dft = cv2.dft(np.float32(image), flags=cv2.DFT_COMPLEX_OUTPUT)\n",
    "dft_shift = np.fft.fftshift(dft)  # Shift the zero frequency to the center\n",
    "\n",
    "# Step 3: Calculate the magnitude spectrum\n",
    "magnitude_spectrum = 20 * np.log(cv2.magnitude(dft_shift[:, :, 0], dft_shift[:, :, 1]))\n",
    "\n",
    "# Step 4: Display the magnitude spectrum\n",
    "cv2.imshow('Magnitude Spectrum', np.uint8(magnitude_spectrum))\n",
    "\n",
    "# Step 6: Display the original and reconstructed images\n",
    "cv2.imshow('Original Image', image)\n",
    "cv2.waitKey(0)\n",
    "cv2.destroyAllWindows()\n"
   ]
  },
  {
   "cell_type": "code",
   "execution_count": null,
   "metadata": {},
   "outputs": [],
   "source": []
  }
 ],
 "metadata": {
  "kernelspec": {
   "display_name": "computer_vision",
   "language": "python",
   "name": "python3"
  },
  "language_info": {
   "codemirror_mode": {
    "name": "ipython",
    "version": 3
   },
   "file_extension": ".py",
   "mimetype": "text/x-python",
   "name": "python",
   "nbconvert_exporter": "python",
   "pygments_lexer": "ipython3",
   "version": "3.12.7"
  }
 },
 "nbformat": 4,
 "nbformat_minor": 2
}
