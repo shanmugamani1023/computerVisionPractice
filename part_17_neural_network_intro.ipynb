{
 "cells": [
  {
   "cell_type": "markdown",
   "metadata": {},
   "source": [
    "# what is neural network :\n",
    "Neural network , In a simple terms we can say its artificial brain.used to do some tasks by training."
   ]
  },
  {
   "cell_type": "markdown",
   "metadata": {},
   "source": [
    "ex . Input layer - x=10,w=10,b=10  output layer in this layer we have one function ,normally we use y=mx+b for fit the line , for fitting this data we can use that same formulae."
   ]
  },
  {
   "cell_type": "markdown",
   "metadata": {},
   "source": [
    "weights - the value affects output based on input,so we say how much important need to give to the  feature.\n",
    "bias - its a value ,that makes the shift output from thr origin"
   ]
  },
  {
   "cell_type": "markdown",
   "metadata": {},
   "source": [
    "Yes! The linear equation \\( y = mx + b \\) is **easy to differentiate**, which makes it computationally efficient to use in machine learning models and optimization techniques like **gradient descent**. Let's break this down step-by-step to see **why linear equations are easy to differentiate**.\n",
    "\n",
    "---\n",
    "\n",
    "### **Recap of Differentiation**\n",
    "Differentiation is the process of finding the **rate of change** of a function with respect to a variable. For a function like \\( y = mx + b \\):\n",
    "- The derivative with respect to \\( x \\) tells us how \\( y \\) changes when \\( x \\) changes.\n",
    "  \n",
    "---\n",
    "\n",
    "### **Step-by-Step Differentiation of \\( y = mx + b \\)**\n",
    "\n",
    "Let’s differentiate \\( y = mx + b \\) with respect to \\( x \\). \n",
    "\n",
    "\\[\n",
    "\\frac{d}{dx}(y) = \\frac{d}{dx}(mx + b)\n",
    "\\]\n",
    "\n",
    "1. **Apply the derivative rules:**\n",
    "   - The derivative of \\( mx \\) with respect to \\( x \\) is \\( m \\) (since \\( m \\) is a constant).\n",
    "     \\[\n",
    "     \\frac{d}{dx}(mx) = m\n",
    "     \\]\n",
    "   - The derivative of a constant \\( b \\) is \\( 0 \\).\n",
    "     \\[\n",
    "     \\frac{d}{dx}(b) = 0\n",
    "     \\]\n",
    "\n",
    "2. **Final result:**\n",
    "   \\[\n",
    "   \\frac{d}{dx}(y) = m\n",
    "   \\]\n",
    "\n",
    "---\n",
    "\n",
    "### **Why Is This Important?**\n",
    "\n",
    "1. **Easy Gradient Calculation:**  \n",
    "   - In machine learning, gradients (i.e., derivatives) are used to **update the model parameters** (like weights and biases) during training.  \n",
    "   - For a linear equation, the derivative is just \\( m \\), which is computationally cheap to calculate.\n",
    "\n",
    "2. **Smooth, Continuous Function:**  \n",
    "   - Linear functions like \\( y = mx + b \\) are **smooth and continuous**, meaning their derivatives exist everywhere. This ensures the optimization process (like gradient descent) runs smoothly.\n",
    "\n",
    "3. **Used in Gradient Descent:**  \n",
    "   - **Gradient Descent** is an optimization algorithm where we adjust parameters like weights and biases to minimize the loss function.  \n",
    "   - For a linear model, the gradient (i.e., how much to change the parameters) is easy to compute because the derivative is a constant.\n",
    "\n",
    "---\n",
    "\n",
    "### **Example: Linear Regression**\n",
    "In **linear regression**, we use the equation:\n",
    "\n",
    "\\[\n",
    "\\hat{y} = w \\cdot x + b\n",
    "\\]\n",
    "\n",
    "- The goal is to minimize the **loss function** (e.g., mean squared error, MSE).\n",
    "- The derivative (gradient) of the loss function with respect to **\\( w \\)** and **\\( b \\)** is easy to compute, which makes **training fast and efficient**.\n",
    "\n",
    "---\n",
    "\n",
    "### **Summary**\n",
    "Linear functions like \\( y = mx + b \\) are **easy to differentiate** because:\n",
    "1. The derivative of \\( mx \\) is just \\( m \\).\n",
    "2. The derivative of the constant \\( b \\) is 0.\n",
    "3. This simplicity makes **gradient calculations** fast, which is essential for machine learning algorithms like gradient descent.\n",
    "\n",
    "This computational efficiency is one reason why linear models (and linear components in more complex models) are so popular.\\\n"
   ]
  },
  {
   "cell_type": "code",
   "execution_count": null,
   "metadata": {
    "vscode": {
     "languageId": "plaintext"
    }
   },
   "outputs": [],
   "source": []
  },
  {
   "cell_type": "code",
   "execution_count": null,
   "metadata": {
    "vscode": {
     "languageId": "plaintext"
    }
   },
   "outputs": [],
   "source": []
  },
  {
   "cell_type": "code",
   "execution_count": null,
   "metadata": {
    "vscode": {
     "languageId": "plaintext"
    }
   },
   "outputs": [],
   "source": []
  },
  {
   "cell_type": "code",
   "execution_count": null,
   "metadata": {
    "vscode": {
     "languageId": "plaintext"
    }
   },
   "outputs": [],
   "source": []
  },
  {
   "cell_type": "code",
   "execution_count": null,
   "metadata": {
    "vscode": {
     "languageId": "plaintext"
    }
   },
   "outputs": [],
   "source": []
  },
  {
   "cell_type": "code",
   "execution_count": null,
   "metadata": {
    "vscode": {
     "languageId": "plaintext"
    }
   },
   "outputs": [],
   "source": []
  },
  {
   "cell_type": "code",
   "execution_count": null,
   "metadata": {
    "vscode": {
     "languageId": "plaintext"
    }
   },
   "outputs": [],
   "source": []
  },
  {
   "cell_type": "code",
   "execution_count": null,
   "metadata": {
    "vscode": {
     "languageId": "plaintext"
    }
   },
   "outputs": [],
   "source": []
  },
  {
   "cell_type": "code",
   "execution_count": null,
   "metadata": {
    "vscode": {
     "languageId": "plaintext"
    }
   },
   "outputs": [],
   "source": []
  },
  {
   "cell_type": "code",
   "execution_count": null,
   "metadata": {
    "vscode": {
     "languageId": "plaintext"
    }
   },
   "outputs": [],
   "source": []
  },
  {
   "cell_type": "code",
   "execution_count": null,
   "metadata": {
    "vscode": {
     "languageId": "plaintext"
    }
   },
   "outputs": [],
   "source": []
  },
  {
   "cell_type": "code",
   "execution_count": null,
   "metadata": {
    "vscode": {
     "languageId": "plaintext"
    }
   },
   "outputs": [],
   "source": []
  },
  {
   "cell_type": "code",
   "execution_count": null,
   "metadata": {
    "vscode": {
     "languageId": "plaintext"
    }
   },
   "outputs": [],
   "source": []
  },
  {
   "cell_type": "code",
   "execution_count": null,
   "metadata": {
    "vscode": {
     "languageId": "plaintext"
    }
   },
   "outputs": [],
   "source": []
  },
  {
   "cell_type": "code",
   "execution_count": null,
   "metadata": {
    "vscode": {
     "languageId": "plaintext"
    }
   },
   "outputs": [],
   "source": []
  },
  {
   "cell_type": "code",
   "execution_count": null,
   "metadata": {
    "vscode": {
     "languageId": "plaintext"
    }
   },
   "outputs": [],
   "source": []
  },
  {
   "cell_type": "code",
   "execution_count": null,
   "metadata": {
    "vscode": {
     "languageId": "plaintext"
    }
   },
   "outputs": [],
   "source": []
  },
  {
   "cell_type": "code",
   "execution_count": null,
   "metadata": {
    "vscode": {
     "languageId": "plaintext"
    }
   },
   "outputs": [],
   "source": []
  }
 ],
 "metadata": {
  "language_info": {
   "name": "python"
  }
 },
 "nbformat": 4,
 "nbformat_minor": 2
}
