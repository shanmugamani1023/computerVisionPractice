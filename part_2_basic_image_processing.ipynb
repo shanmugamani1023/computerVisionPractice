{
 "cells": [
  {
   "cell_type": "markdown",
   "metadata": {},
   "source": [
    "### **1. Basic Operations**\n",
    "\n",
    "   - **Reading and Writing Images:**\n",
    "     - `cv2.imread()`: Read an image.\n",
    "     - `cv2.imwrite()`: Save an image.\n",
    "     - `cv2.imshow()`: Display an image.\n",
    "   \n",
    "   - **Resizing and Scaling:**\n",
    "     - `cv2.resize()`: Resize an image.\n",
    "   \n",
    "   - **Flipping:**\n",
    "     - `cv2.flip()`: Flip an image horizontally or vertically.\n",
    "   \n",
    "   - **Cropping:**\n",
    "     - Image slicing (e.g., `image[x1:x2, y1:y2]`) can crop images based on pixel ranges.\n",
    "   \n",
    "   - **Rotation:**\n",
    "     - `cv2.getRotationMatrix2D()`: Compute rotation matrix.\n",
    "     - `cv2.warpAffine()`: Apply rotation.\n",
    "\n",
    "     **Zoom**\n",
    "     -"
   ]
  },
  {
   "cell_type": "code",
   "execution_count": 2,
   "metadata": {},
   "outputs": [
    {
     "name": "stdout",
     "output_type": "stream",
     "text": [
      "Collecting opencv-python\n",
      "  Downloading opencv_python-4.10.0.84-cp37-abi3-win_amd64.whl.metadata (20 kB)\n",
      "Collecting numpy>=1.21.2 (from opencv-python)\n",
      "  Downloading numpy-2.1.2-cp312-cp312-win_amd64.whl.metadata (59 kB)\n",
      "Downloading opencv_python-4.10.0.84-cp37-abi3-win_amd64.whl (38.8 MB)\n",
      "   ---------------------------------------- 0.0/38.8 MB ? eta -:--:--\n",
      "   - -------------------------------------- 1.0/38.8 MB 6.3 MB/s eta 0:00:07\n",
      "   - -------------------------------------- 1.8/38.8 MB 4.4 MB/s eta 0:00:09\n",
      "   -- ------------------------------------- 2.4/38.8 MB 3.6 MB/s eta 0:00:11\n",
      "   --- ------------------------------------ 3.4/38.8 MB 4.1 MB/s eta 0:00:09\n",
      "   ---- ----------------------------------- 4.2/38.8 MB 4.1 MB/s eta 0:00:09\n",
      "   ----- ---------------------------------- 5.2/38.8 MB 4.0 MB/s eta 0:00:09\n",
      "   ------ --------------------------------- 6.0/38.8 MB 4.1 MB/s eta 0:00:09\n",
      "   ------- -------------------------------- 6.8/38.8 MB 4.0 MB/s eta 0:00:09\n",
      "   ------- -------------------------------- 7.6/38.8 MB 4.0 MB/s eta 0:00:08\n",
      "   -------- ------------------------------- 8.4/38.8 MB 4.0 MB/s eta 0:00:08\n",
      "   --------- ------------------------------ 9.2/38.8 MB 4.0 MB/s eta 0:00:08\n",
      "   ---------- ----------------------------- 10.0/38.8 MB 4.0 MB/s eta 0:00:08\n",
      "   ----------- ---------------------------- 11.0/38.8 MB 4.0 MB/s eta 0:00:08\n",
      "   ------------ --------------------------- 11.8/38.8 MB 3.9 MB/s eta 0:00:07\n",
      "   ------------ --------------------------- 12.6/38.8 MB 4.0 MB/s eta 0:00:07\n",
      "   ------------- -------------------------- 13.4/38.8 MB 3.9 MB/s eta 0:00:07\n",
      "   -------------- ------------------------- 14.2/38.8 MB 3.9 MB/s eta 0:00:07\n",
      "   --------------- ------------------------ 14.9/38.8 MB 3.9 MB/s eta 0:00:07\n",
      "   ---------------- ----------------------- 15.7/38.8 MB 3.9 MB/s eta 0:00:06\n",
      "   ----------------- ---------------------- 16.8/38.8 MB 3.9 MB/s eta 0:00:06\n",
      "   ------------------ --------------------- 17.6/38.8 MB 3.9 MB/s eta 0:00:06\n",
      "   ------------------ --------------------- 18.4/38.8 MB 3.9 MB/s eta 0:00:06\n",
      "   ------------------- -------------------- 19.1/38.8 MB 3.9 MB/s eta 0:00:06\n",
      "   -------------------- ------------------- 19.9/38.8 MB 3.9 MB/s eta 0:00:05\n",
      "   --------------------- ------------------ 20.7/38.8 MB 3.9 MB/s eta 0:00:05\n",
      "   ---------------------- ----------------- 21.5/38.8 MB 3.9 MB/s eta 0:00:05\n",
      "   ---------------------- ----------------- 22.3/38.8 MB 3.9 MB/s eta 0:00:05\n",
      "   ------------------------ --------------- 23.3/38.8 MB 3.9 MB/s eta 0:00:04\n",
      "   ------------------------ --------------- 24.1/38.8 MB 3.9 MB/s eta 0:00:04\n",
      "   ------------------------- -------------- 24.9/38.8 MB 3.9 MB/s eta 0:00:04\n",
      "   -------------------------- ------------- 25.7/38.8 MB 3.9 MB/s eta 0:00:04\n",
      "   --------------------------- ------------ 26.5/38.8 MB 3.9 MB/s eta 0:00:04\n",
      "   ---------------------------- ----------- 27.3/38.8 MB 3.9 MB/s eta 0:00:03\n",
      "   ---------------------------- ----------- 28.0/38.8 MB 3.9 MB/s eta 0:00:03\n",
      "   ----------------------------- ---------- 28.8/38.8 MB 3.9 MB/s eta 0:00:03\n",
      "   ------------------------------ --------- 29.9/38.8 MB 3.9 MB/s eta 0:00:03\n",
      "   ------------------------------- -------- 30.7/38.8 MB 3.9 MB/s eta 0:00:03\n",
      "   -------------------------------- ------- 31.5/38.8 MB 3.9 MB/s eta 0:00:02\n",
      "   --------------------------------- ------ 32.2/38.8 MB 3.9 MB/s eta 0:00:02\n",
      "   ---------------------------------- ----- 33.0/38.8 MB 3.9 MB/s eta 0:00:02\n",
      "   ---------------------------------- ----- 33.8/38.8 MB 3.9 MB/s eta 0:00:02\n",
      "   ----------------------------------- ---- 34.6/38.8 MB 3.9 MB/s eta 0:00:02\n",
      "   ------------------------------------ --- 35.4/38.8 MB 3.9 MB/s eta 0:00:01\n",
      "   ------------------------------------- -- 36.2/38.8 MB 3.9 MB/s eta 0:00:01\n",
      "   -------------------------------------- - 37.2/38.8 MB 3.9 MB/s eta 0:00:01\n",
      "   ---------------------------------------  38.0/38.8 MB 3.9 MB/s eta 0:00:01\n",
      "   ---------------------------------------  38.8/38.8 MB 3.9 MB/s eta 0:00:01\n",
      "   ---------------------------------------- 38.8/38.8 MB 3.9 MB/s eta 0:00:00\n",
      "Downloading numpy-2.1.2-cp312-cp312-win_amd64.whl (12.6 MB)\n",
      "   ---------------------------------------- 0.0/12.6 MB ? eta -:--:--\n",
      "   --- ------------------------------------ 1.0/12.6 MB 5.6 MB/s eta 0:00:03\n",
      "   ----- ---------------------------------- 1.8/12.6 MB 4.6 MB/s eta 0:00:03\n",
      "   -------- ------------------------------- 2.6/12.6 MB 4.0 MB/s eta 0:00:03\n",
      "   ---------- ----------------------------- 3.4/12.6 MB 4.2 MB/s eta 0:00:03\n",
      "   ------------- -------------------------- 4.2/12.6 MB 4.1 MB/s eta 0:00:03\n",
      "   ---------------- ----------------------- 5.2/12.6 MB 4.1 MB/s eta 0:00:02\n",
      "   ------------------ --------------------- 5.8/12.6 MB 4.1 MB/s eta 0:00:02\n",
      "   --------------------- ------------------ 6.8/12.6 MB 4.0 MB/s eta 0:00:02\n",
      "   ------------------------ --------------- 7.6/12.6 MB 4.0 MB/s eta 0:00:02\n",
      "   -------------------------- ------------- 8.4/12.6 MB 4.0 MB/s eta 0:00:02\n",
      "   ----------------------------- ---------- 9.2/12.6 MB 4.0 MB/s eta 0:00:01\n",
      "   ------------------------------- -------- 10.0/12.6 MB 4.0 MB/s eta 0:00:01\n",
      "   ---------------------------------- ----- 10.7/12.6 MB 4.0 MB/s eta 0:00:01\n",
      "   ------------------------------------ --- 11.5/12.6 MB 4.0 MB/s eta 0:00:01\n",
      "   ---------------------------------------  12.3/12.6 MB 4.0 MB/s eta 0:00:01\n",
      "   ---------------------------------------- 12.6/12.6 MB 3.9 MB/s eta 0:00:00\n",
      "Installing collected packages: numpy, opencv-python\n",
      "Successfully installed numpy-2.1.2 opencv-python-4.10.0.84\n"
     ]
    }
   ],
   "source": [
    "!pip install opencv-python"
   ]
  },
  {
   "cell_type": "code",
   "execution_count": 3,
   "metadata": {},
   "outputs": [],
   "source": [
    "# Read the image and Display\n",
    "import cv2 \n",
    "downloadedImage=cv2.imread(\"downloaded_image.jpg\")\n",
    "cv2.imshow(\"input\",downloadedImage)\n",
    "cv2.waitKey(0)\n",
    "cv2.destroyAllWindows()"
   ]
  },
  {
   "cell_type": "code",
   "execution_count": 5,
   "metadata": {},
   "outputs": [
    {
     "data": {
      "text/plain": [
       "True"
      ]
     },
     "execution_count": 5,
     "metadata": {},
     "output_type": "execute_result"
    }
   ],
   "source": [
    "# Save the Image\n",
    "cv2.imwrite(\"savedImage.jpg\",downloadedImage)"
   ]
  },
  {
   "cell_type": "code",
   "execution_count": 10,
   "metadata": {},
   "outputs": [
    {
     "name": "stdout",
     "output_type": "stream",
     "text": [
      "Shape before resize : (366, 798, 3)\n",
      "Shape after resize : (640, 640, 3)\n"
     ]
    }
   ],
   "source": [
    "# Shape finding and Resize the Image\n",
    "print(f\"Shape before resize : {downloadedImage.shape}\")\n",
    "resizedImage=cv2.resize(downloadedImage,(640,640))\n",
    "print(f\"Shape after resize : {resizedImage.shape}\")\n"
   ]
  },
  {
   "cell_type": "code",
   "execution_count": 12,
   "metadata": {},
   "outputs": [],
   "source": [
    "import cv2 \n",
    "downloadedImage=cv2.imread(\"downloaded_image.jpg\")\n",
    "#flip image\n",
    "cv2.flip(downloadedImage,1)\n",
    "cv2.imshow(\"input\",downloadedImage)\n",
    "cv2.imshow(\"resizedImage\",resizedImage)\n",
    "cv2.waitKey(0)\n",
    "cv2.destroyAllWindows()"
   ]
  },
  {
   "cell_type": "code",
   "execution_count": 15,
   "metadata": {},
   "outputs": [],
   "source": [
    "import cv2 \n",
    "downloadedImage=cv2.imread(\"downloaded_image.jpg\")\n",
    "#flip image\n",
    "HorizontalImage=cv2.flip(downloadedImage,1)\n",
    "\n",
    "verticalImage=cv2.flip(downloadedImage,0)\n",
    "cv2.imshow(\"HorizontalImage\",HorizontalImage)\n",
    "cv2.imshow(\"verticalImage\",verticalImage)\n",
    "\n",
    "cv2.imshow(\"resizedImage\",resizedImage)\n",
    "cv2.waitKey(0)\n",
    "cv2.destroyAllWindows()"
   ]
  },
  {
   "cell_type": "code",
   "execution_count": 16,
   "metadata": {},
   "outputs": [],
   "source": [
    "import cv2 \n",
    "downloadedImage=cv2.imread(\"downloaded_image.jpg\")\n",
    "#flip image\n",
    "HorizontalImage=cv2.flip(downloadedImage,1)\n",
    "\n",
    "verticalImage=cv2.flip(downloadedImage,0)\n",
    "\n",
    "H_and_V_FlipImage=cv2.flip(downloadedImage,-1)\n",
    "\n",
    "cv2.imshow(\"HorizontalImage\",HorizontalImage)\n",
    "cv2.imshow(\"verticalImage\",verticalImage)\n",
    "cv2.imshow(\"H_and_V_FlipImage\",H_and_V_FlipImage)\n",
    "\n",
    "\n",
    "cv2.imshow(\"resizedImage\",resizedImage)\n",
    "cv2.waitKey(0)\n",
    "cv2.destroyAllWindows()"
   ]
  },
  {
   "cell_type": "markdown",
   "metadata": {},
   "source": [
    "   - **Cropping:**\n",
    "     - Image slicing (e.g., `image[x1:x2, y1:y2]`) can crop images based on pixel ranges."
   ]
  },
  {
   "cell_type": "code",
   "execution_count": 19,
   "metadata": {},
   "outputs": [],
   "source": [
    "x1,y1,x2,y2=100,100,500,500\n",
    "croppedImage=downloadedImage[y1:y2,x1:x2]\n",
    "cv2.imshow(\"croppedImage\",croppedImage)\n",
    "cv2.waitKey(0)\n",
    "cv2.destroyAllWindows()"
   ]
  },
  {
   "cell_type": "markdown",
   "metadata": {},
   "source": [
    "   - **Rotation:**\n",
    "     - `cv2.getRotationMatrix2D()`: Compute rotation matrix.\n",
    "     - `cv2.warpAffine()`: Apply rotation."
   ]
  },
  {
   "cell_type": "code",
   "execution_count": 12,
   "metadata": {},
   "outputs": [],
   "source": [
    "h,w=downloadedImage.shape[:2]\n",
    "center=(w//2,h//2)\n",
    "degree=45\n",
    "scaling_factor=1.0 # No zooming"
   ]
  },
  {
   "cell_type": "code",
   "execution_count": 22,
   "metadata": {},
   "outputs": [],
   "source": [
    "# Rotation Matrix\n",
    "matrix=cv2.getRotationMatrix2D(center,10,1.0)"
   ]
  },
  {
   "cell_type": "code",
   "execution_count": 23,
   "metadata": {},
   "outputs": [],
   "source": [
    "#Applying Rotation Matrix to Image\n",
    "rotatedImage=cv2.warpAffine(downloadedImage,matrix,(w,h))\n",
    "cv2.imshow(\"rotatedImage\",rotatedImage)\n",
    "cv2.waitKey(0)\n",
    "cv2.destroyAllWindows()"
   ]
  },
  {
   "cell_type": "code",
   "execution_count": 25,
   "metadata": {},
   "outputs": [],
   "source": [
    "#Zoom\n",
    "\n",
    "# In image processing, **interpolation** refers to the method used to estimate pixel values when resizing or transforming images. OpenCV provides several interpolation techniques that can be specified when performing operations like resizing, rotating, or warping images.\n",
    "\n",
    "# Here are the common interpolation methods in OpenCV:\n",
    "\n",
    "# 1. **Nearest-Neighbor Interpolation (`cv2.INTER_NEAREST`)**:\n",
    "#    - Fast but may produce blocky, pixelated results.\n",
    "#    - It assigns the value of the nearest pixel to the new pixel.\n",
    "\n",
    "# 2. **Bilinear Interpolation (`cv2.INTER_LINEAR`)**:\n",
    "#    - Default method for `cv2.resize()`.\n",
    "#    - It calculates the pixel value based on a weighted average of the 2x2 neighborhood of pixels.\n",
    "\n",
    "# 3. **Bicubic Interpolation (`cv2.INTER_CUBIC`)**:\n",
    "#    - Slower but produces smoother results, especially for zooming in.\n",
    "#    - It considers a 4x4 neighborhood of pixels to calculate the new pixel value.\n",
    "\n",
    "# 4. **Lanczos Interpolation (`cv2.INTER_LANCZOS4`)**:\n",
    "#    - Best for downsizing images.\n",
    "#    - Uses an 8x8 pixel neighborhood to compute the new pixel values, providing high-quality results.\n",
    "\n",
    "# 5. **Area-based Interpolation (`cv2.INTER_AREA`)**:\n",
    "#    - Best for reducing the size of an image.\n",
    "#    - This method uses pixel area relation, making it ideal for image shrinking.\n",
    "\n",
    "# ### Example in Python with Different Interpolation Methods:\n",
    "\n",
    "# ```python\n",
    "# import cv2\n",
    "\n",
    "# Load the image\n",
    "# downloadedImage = cv2.imread('path_to_image')\n",
    "\n",
    "# Get the dimensions of the original image\n",
    "(h, w) = downloadedImage.shape[:2]\n",
    "\n",
    "# Define zoom factor\n",
    "zoom_in_factor = 0.5  # Zoom in by 2x\n",
    "\n",
    "# Nearest neighbor interpolation (fast but blocky)\n",
    "nearest = cv2.resize(downloadedImage, (int(w * zoom_in_factor), int(h * zoom_in_factor)), interpolation=cv2.INTER_NEAREST)\n",
    "\n",
    "# Bilinear interpolation (default, balanced between speed and quality)\n",
    "bilinear = cv2.resize(downloadedImage, (int(w * zoom_in_factor), int(h * zoom_in_factor)), interpolation=cv2.INTER_LINEAR)\n",
    "\n",
    "# Bicubic interpolation (slower, better quality)\n",
    "bicubic = cv2.resize(downloadedImage, (int(w * zoom_in_factor), int(h * zoom_in_factor)), interpolation=cv2.INTER_CUBIC)\n",
    "\n",
    "# Lanczos interpolation (best for downsampling)\n",
    "lanczos = cv2.resize(downloadedImage, (int(w * zoom_in_factor), int(h * zoom_in_factor)), interpolation=cv2.INTER_LANCZOS4)\n",
    "\n",
    "# Display the different interpolation results\n",
    "cv2.imshow('Original Image', downloadedImage)\n",
    "cv2.imshow('Nearest Interpolation', nearest)\n",
    "cv2.imshow('Bilinear Interpolation', bilinear)\n",
    "cv2.imshow('Bicubic Interpolation', bicubic)\n",
    "cv2.imshow('Lanczos Interpolation', lanczos)\n",
    "\n",
    "cv2.waitKey(0)\n",
    "cv2.destroyAllWindows()\n",
    "# ```\n",
    "\n",
    "# ### When to Use Each Interpolation Method:\n",
    "\n",
    "# - **INTER_NEAREST**: Fast but low quality, useful for quick previews or when high speed is essential.\n",
    "# - **INTER_LINEAR**: Good balance between speed and quality, often the default.\n",
    "# - **INTER_CUBIC**: Best for enlarging images while preserving quality (with some smoothness).\n",
    "# - **INTER_LANCZOS4**: Ideal for downsizing with the highest quality.\n",
    "\n",
    "# Choosing the right interpolation method depends on the application—whether speed, quality, or size reduction is more important."
   ]
  },
  {
   "cell_type": "code",
   "execution_count": null,
   "metadata": {},
   "outputs": [],
   "source": []
  },
  {
   "cell_type": "code",
   "execution_count": null,
   "metadata": {},
   "outputs": [],
   "source": []
  },
  {
   "cell_type": "code",
   "execution_count": null,
   "metadata": {},
   "outputs": [],
   "source": []
  },
  {
   "cell_type": "code",
   "execution_count": null,
   "metadata": {},
   "outputs": [],
   "source": []
  },
  {
   "cell_type": "code",
   "execution_count": null,
   "metadata": {},
   "outputs": [],
   "source": []
  },
  {
   "cell_type": "code",
   "execution_count": null,
   "metadata": {},
   "outputs": [],
   "source": []
  },
  {
   "cell_type": "code",
   "execution_count": null,
   "metadata": {},
   "outputs": [],
   "source": []
  },
  {
   "cell_type": "code",
   "execution_count": null,
   "metadata": {},
   "outputs": [],
   "source": []
  }
 ],
 "metadata": {
  "kernelspec": {
   "display_name": "computer_vision",
   "language": "python",
   "name": "python3"
  },
  "language_info": {
   "codemirror_mode": {
    "name": "ipython",
    "version": 3
   },
   "file_extension": ".py",
   "mimetype": "text/x-python",
   "name": "python",
   "nbconvert_exporter": "python",
   "pygments_lexer": "ipython3",
   "version": "3.12.7"
  }
 },
 "nbformat": 4,
 "nbformat_minor": 2
}
