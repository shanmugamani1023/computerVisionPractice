{
 "cells": [
  {
   "cell_type": "markdown",
   "metadata": {},
   "source": [
    "# What is TensorFlow?\n",
    "    TensorFlow is the worlds most used library for Machine Learning and Deep learning used for create a . Developed in 2015 by the Google Brain Team, it ensures to provide an easy-to-use low-level toolkit that can handle complex mathematical operations and learning architectures."
   ]
  },
  {
   "cell_type": "markdown",
   "metadata": {
    "vscode": {
     "languageId": "plaintext"
    }
   },
   "source": [
    "# What are tensors?\n",
    "    Tensors are similar to arrays in programming languages, but here, they are of higher dimensions. It can be considered as a generalization of matrices that form an n-dimensional array. TensorFlow provides methods that can be used to create tensor functions and compute their derivatives easily. This is what sets tensors apart from the NumPy arrays."
   ]
  },
  {
   "cell_type": "code",
   "execution_count": 1,
   "metadata": {},
   "outputs": [
    {
     "name": "stdout",
     "output_type": "stream",
     "text": [
      "[]\n"
     ]
    }
   ],
   "source": [
    "# import torch\n",
    "\n",
    "# print(\"Number of GPU: \", torch.cuda.device_count())\n",
    "# print(\"GPU Name: \", torch.cuda.get_device_name())\n",
    "\n",
    "\n",
    "# device = torch.device('cuda' if torch.cuda.is_available() else 'cpu')\n",
    "# print('Using device:', device)\n",
    "import tensorflow as tf\n",
    "print(tf.config.list_physical_devices('GPU'))"
   ]
  },
  {
   "cell_type": "markdown",
   "metadata": {},
   "source": [
    "### **What is a Tensor?**  \n",
    "A **tensor** is a mathematical object that generalizes scalars, vectors, and matrices to higher dimensions. Tensors represent data in multi-dimensional arrays and are used extensively in machine learning frameworks such as TensorFlow and PyTorch.  \n",
    "\n",
    "- **Scalar**: A single number (0D tensor)  \n",
    "- **Vector**: A 1D array of numbers (1D tensor)  \n",
    "- **Matrix**: A 2D grid of numbers (2D tensor)  \n",
    "- **Higher-order tensor**: Tensors can extend to 3D and beyond, like a collection of matrices or higher-dimensional data structures.\n",
    "\n",
    "For example:\n",
    "- A **3D tensor** could represent a batch of color images, with dimensions `[batch_size, height, width, channels]`.  \n",
    "\n",
    "---\n",
    "\n",
    "### **Difference between Tensor and Array**  \n",
    "\n",
    "| **Aspect**          | **Tensor**                                      | **Array**                                     |\n",
    "|---------------------|--------------------------------------------------|-----------------------------------------------|\n",
    "| **Definition**      | Multi-dimensional data structure (generalized).  | N-dimensional grid of values.                |\n",
    "| **Framework**       | Used in machine learning libraries like TensorFlow or PyTorch. | Used in general programming, such as NumPy arrays in Python. |\n",
    "| **Operations**      | Supports automatic differentiation (backpropagation). | Requires manual differentiation (if needed).|\n",
    "| **Purpose**         | Specifically designed for deep learning and differentiable operations. | Used for general data storage and computations. |\n",
    "| **Backend Optimization** | Optimized for GPU and distributed systems in deep learning frameworks. | Not inherently optimized for GPU operations. |\n",
    "| **Example Usage**   | TensorFlow, PyTorch for neural networks.         | NumPy for scientific computing.              |\n",
    "\n",
    "---\n",
    "\n",
    "### **Summary**  \n",
    "- A **tensor** is conceptually similar to an **array** but optimized for operations used in deep learning and differentiable computations.\n",
    "- While arrays (like in NumPy) are used for general mathematical operations, **tensors** are primarily used in deep learning frameworks, where they offer additional functionalities, such as gradient tracking for optimization."
   ]
  },
  {
   "cell_type": "markdown",
   "metadata": {},
   "source": [
    "Sure! Here’s a very simple explanation with day-to-day examples:\n",
    "\n",
    "---\n",
    "\n",
    "### **1. Scalar (0D Tensor)**  \n",
    "- **Definition**: A single number.  \n",
    "- **Example**:  \n",
    "  - Temperature today: **30°C**  \n",
    "  - Weight of an apple: **150 grams**  \n",
    "\n",
    "This is just one value—no direction, no dimensions.\n",
    "\n",
    "---\n",
    "\n",
    "### **2. Vector (1D Tensor)**  \n",
    "- **Definition**: A list of numbers arranged in one row or one column (1D).  \n",
    "- **Example**:  \n",
    "  - Shopping quantities:  \n",
    "    \\[ [2, 4, 1] \\]  \n",
    "    Meaning: 2 apples, 4 bananas, 1 orange.\n",
    "\n",
    "Each number represents a quantity of an item.\n",
    "\n",
    "---\n",
    "\n",
    "### **3. Matrix (2D Tensor)**  \n",
    "- **Definition**: A grid of numbers (rows and columns).  \n",
    "- **Example**:  \n",
    "  - A table of student test scores:\n",
    "\n",
    "    \\[\n",
    "    \\begin{matrix}\n",
    "    85 & 90 & 78 \\\\\n",
    "    88 & 92 & 80 \\\\\n",
    "    70 & 75 & 82\n",
    "    \\end{matrix}\n",
    "    \\]\n",
    "\n",
    "Each row represents a student, and each column represents a subject (e.g., Math, Science, English).\n",
    "\n",
    "---\n",
    "\n",
    "These examples show how scalars, vectors, and matrices naturally occur in everyday situations and data."
   ]
  },
  {
   "cell_type": "markdown",
   "metadata": {},
   "source": [
    "# Basics"
   ]
  },
  {
   "cell_type": "code",
   "execution_count": 3,
   "metadata": {},
   "outputs": [],
   "source": [
    "import tensorflow as tf"
   ]
  },
  {
   "cell_type": "code",
   "execution_count": 2,
   "metadata": {},
   "outputs": [
    {
     "name": "stdout",
     "output_type": "stream",
     "text": [
      "tf.Tensor(4, shape=(), dtype=int32)\n"
     ]
    }
   ],
   "source": [
    "# This will be an int32 tensor by default; see \"dtypes\" below.\n",
    "rank_0_tensor = tf.constant(4)\n",
    "print(rank_0_tensor)"
   ]
  },
  {
   "cell_type": "code",
   "execution_count": 10,
   "metadata": {},
   "outputs": [
    {
     "name": "stdout",
     "output_type": "stream",
     "text": [
      "tf.Tensor([2. 3. 4.], shape=(3,), dtype=float32)\n"
     ]
    }
   ],
   "source": [
    "# Let's make this a float tensor.\n",
    "rank_1_tensor = tf.constant([2.0, 3.0, 4.0])\n",
    "print(rank_1_tensor)"
   ]
  },
  {
   "cell_type": "code",
   "execution_count": 4,
   "metadata": {},
   "outputs": [
    {
     "name": "stdout",
     "output_type": "stream",
     "text": [
      "tf.Tensor(\n",
      "[[1. 2.]\n",
      " [3. 4.]\n",
      " [5. 6.]], shape=(3, 2), dtype=float16)\n"
     ]
    }
   ],
   "source": [
    "# If you want to be specific, you can set the dtype (see below) at creation time\n",
    "rank_2_tensor = tf.constant([[1, 2],\n",
    "                             [3, 4],\n",
    "                             [5, 6]], dtype=tf.float16)\n",
    "print(rank_2_tensor)"
   ]
  },
  {
   "cell_type": "code",
   "execution_count": 12,
   "metadata": {},
   "outputs": [
    {
     "name": "stdout",
     "output_type": "stream",
     "text": [
      "tf.Tensor(\n",
      "[[[ 0  1  2  3  4]\n",
      "  [ 5  6  7  8  9]]\n",
      "\n",
      " [[10 11 12 13 14]\n",
      "  [15 16 17 18 19]]\n",
      "\n",
      " [[20 21 22 23 24]\n",
      "  [25 26 27 28 29]]], shape=(3, 2, 5), dtype=int32)\n"
     ]
    }
   ],
   "source": [
    "# There can be an arbitrary number of\n",
    "# axes (sometimes called \"dimensions\")\n",
    "rank_3_tensor = tf.constant([\n",
    "  [[0, 1, 2, 3, 4],\n",
    "   [5, 6, 7, 8, 9]],\n",
    "  [[10, 11, 12, 13, 14],\n",
    "   [15, 16, 17, 18, 19]],\n",
    "  [[20, 21, 22, 23, 24],\n",
    "   [25, 26, 27, 28, 29]],])\n",
    "\n",
    "print(rank_3_tensor)"
   ]
  },
  {
   "cell_type": "code",
   "execution_count": 13,
   "metadata": {},
   "outputs": [],
   "source": [
    "# why keras is inside with tensor ?\n",
    "#     #"
   ]
  },
  {
   "cell_type": "code",
   "execution_count": 16,
   "metadata": {},
   "outputs": [
    {
     "name": "stdout",
     "output_type": "stream",
     "text": [
      "tf.Tensor(\n",
      "[[2 3]\n",
      " [4 5]], shape=(2, 2), dtype=int32) \n",
      "\n",
      "tf.Tensor(\n",
      "[[1 2]\n",
      " [3 4]], shape=(2, 2), dtype=int32) \n",
      "\n",
      "tf.Tensor(\n",
      "[[3 3]\n",
      " [7 7]], shape=(2, 2), dtype=int32) \n",
      "\n"
     ]
    }
   ],
   "source": [
    "a = tf.constant([[1, 2],\n",
    "                 [3, 4]])\n",
    "b = tf.constant([[1, 1],\n",
    "                 [1, 1]]) # Could have also said `tf.ones([2,2], dtype=tf.int32)`\n",
    "\n",
    "print(tf.add(a, b), \"\\n\")\n",
    "print(tf.multiply(a, b), \"\\n\")\n",
    "print(tf.matmul(a, b), \"\\n\")"
   ]
  },
  {
   "cell_type": "code",
   "execution_count": 20,
   "metadata": {},
   "outputs": [],
   "source": [
    "# https://www.tensorflow.org/guide/tensor"
   ]
  },
  {
   "cell_type": "code",
   "execution_count": null,
   "metadata": {},
   "outputs": [],
   "source": []
  },
  {
   "cell_type": "code",
   "execution_count": 22,
   "metadata": {},
   "outputs": [
    {
     "name": "stdout",
     "output_type": "stream",
     "text": [
      "[ 0  1  1  2  3  5  8 13 21 34]\n"
     ]
    }
   ],
   "source": [
    "# Indexing\n",
    "rank_1_tensor = tf.constant([0, 1, 1, 2, 3, 5, 8, 13, 21, 34])\n",
    "print(rank_1_tensor.numpy())"
   ]
  },
  {
   "cell_type": "code",
   "execution_count": 23,
   "metadata": {},
   "outputs": [
    {
     "name": "stdout",
     "output_type": "stream",
     "text": [
      "First: 0\n",
      "Second: 1\n",
      "Last: 34\n"
     ]
    }
   ],
   "source": [
    "print(\"First:\", rank_1_tensor[0].numpy())\n",
    "print(\"Second:\", rank_1_tensor[1].numpy())\n",
    "print(\"Last:\", rank_1_tensor[-1].numpy())"
   ]
  },
  {
   "cell_type": "code",
   "execution_count": 24,
   "metadata": {},
   "outputs": [
    {
     "name": "stdout",
     "output_type": "stream",
     "text": [
      "Everything: [ 0  1  1  2  3  5  8 13 21 34]\n",
      "Before 4: [0 1 1 2]\n",
      "From 4 to the end: [ 3  5  8 13 21 34]\n",
      "From 2, before 7: [1 2 3 5 8]\n",
      "Every other item: [ 0  1  3  8 21]\n",
      "Reversed: [34 21 13  8  5  3  2  1  1  0]\n"
     ]
    }
   ],
   "source": [
    "print(\"Everything:\", rank_1_tensor[:].numpy())\n",
    "print(\"Before 4:\", rank_1_tensor[:4].numpy())\n",
    "print(\"From 4 to the end:\", rank_1_tensor[4:].numpy())\n",
    "print(\"From 2, before 7:\", rank_1_tensor[2:7].numpy())\n",
    "print(\"Every other item:\", rank_1_tensor[::2].numpy())\n",
    "print(\"Reversed:\", rank_1_tensor[::-1].numpy())"
   ]
  },
  {
   "cell_type": "code",
   "execution_count": null,
   "metadata": {},
   "outputs": [],
   "source": []
  },
  {
   "cell_type": "code",
   "execution_count": 25,
   "metadata": {},
   "outputs": [
    {
     "name": "stdout",
     "output_type": "stream",
     "text": [
      "[[1. 2.]\n",
      " [3. 4.]\n",
      " [5. 6.]]\n"
     ]
    }
   ],
   "source": [
    "print(rank_2_tensor.numpy())"
   ]
  },
  {
   "cell_type": "code",
   "execution_count": 5,
   "metadata": {},
   "outputs": [
    {
     "name": "stdout",
     "output_type": "stream",
     "text": [
      "Second row: [3. 4.]\n",
      "Second column: [2. 4. 6.]\n",
      "Last row: [5. 6.]\n",
      "First item in last column: 2.0\n",
      "Skip the first row:\n",
      "[[3. 4.]\n",
      " [5. 6.]] \n",
      "\n"
     ]
    }
   ],
   "source": [
    "# Get row and column tensors\n",
    "print(\"Second row:\", rank_2_tensor[1, :].numpy())\n",
    "print(\"Second column:\", rank_2_tensor[:, 1].numpy())\n",
    "print(\"Last row:\", rank_2_tensor[-1, :].numpy())\n",
    "print(\"First item in last column:\", rank_2_tensor[0, -1].numpy())\n",
    "print(\"Skip the first row:\")\n",
    "print(rank_2_tensor[1:, :].numpy(), \"\\n\")\n"
   ]
  },
  {
   "cell_type": "code",
   "execution_count": 50,
   "metadata": {},
   "outputs": [
    {
     "data": {
      "text/plain": [
       "<tf.Tensor: shape=(3, 2), dtype=float16, numpy=\n",
       "array([[1., 2.],\n",
       "       [3., 4.],\n",
       "       [5., 6.]], dtype=float16)>"
      ]
     },
     "execution_count": 50,
     "metadata": {},
     "output_type": "execute_result"
    }
   ],
   "source": [
    "rank_2_tensor"
   ]
  },
  {
   "cell_type": "code",
   "execution_count": 6,
   "metadata": {},
   "outputs": [
    {
     "data": {
      "text/plain": [
       "<tf.Tensor: shape=(2, 3), dtype=float16, numpy=\n",
       "array([[1., 2., 3.],\n",
       "       [4., 5., 6.]], dtype=float16)>"
      ]
     },
     "execution_count": 6,
     "metadata": {},
     "output_type": "execute_result"
    }
   ],
   "source": [
    "tf.reshape(rank_2_tensor,[2,3])"
   ]
  },
  {
   "cell_type": "markdown",
   "metadata": {},
   "source": [
    "In TensorFlow, a **tensor** is a multi-dimensional array of data. Tensors are the fundamental units of data in TensorFlow, and there are several types, categorized by their **dimensionality**, **usage**, and **content**. Below is a breakdown of the main types of tensors and their characteristics.\n",
    "\n",
    "---\n",
    "\n",
    "## 1. **Based on Rank (Dimensionality)**  \n",
    "The rank of a tensor refers to the number of dimensions (axes) it has.\n",
    "\n",
    "### **0D Tensor (Scalar)**  \n",
    "- A tensor with **no dimensions**; it holds a single value.  \n",
    "- Example:\n",
    "  ```python\n",
    "  scalar = tf.constant(5)\n",
    "  print(scalar)  # <tf.Tensor: shape=(), dtype=int32, numpy=5>\n",
    "  ```\n",
    "\n",
    "### **1D Tensor (Vector)**  \n",
    "- A **single-dimensional array** that contains multiple values.\n",
    "- Example:\n",
    "  ```python\n",
    "  vector = tf.constant([1, 2, 3])\n",
    "  print(vector)  # <tf.Tensor: shape=(3,), dtype=int32>\n",
    "  ```\n",
    "\n",
    "### **2D Tensor (Matrix)**  \n",
    "- A tensor with **two dimensions** (rows and columns).\n",
    "- Example:\n",
    "  ```python\n",
    "  matrix = tf.constant([[1, 2], [3, 4]])\n",
    "  print(matrix)  # <tf.Tensor: shape=(2, 2), dtype=int32>\n",
    "  ```\n",
    "\n",
    "### **3D Tensor**  \n",
    "- A tensor with **three dimensions**, often used to represent sequences of matrices (like an image stack or batch of sequences).\n",
    "- Example:\n",
    "  ```python\n",
    "  tensor_3d = tf.zeros([3, 2, 2])\n",
    "  print(tensor_3d)  # Shape: (3, 2, 2)\n",
    "  ```\n",
    "\n",
    "### **n-D Tensor**  \n",
    "- Tensors with **n dimensions** (where n > 3) can represent more complex data, such as batches of images with multiple channels.\n",
    "- Example:\n",
    "  ```python\n",
    "  tensor_4d = tf.ones([10, 64, 64, 3])  # A batch of 10 RGB images (64x64)\n",
    "  print(tensor_4d.shape)  # (10, 64, 64, 3)\n",
    "  ```\n",
    "\n",
    "---\n",
    "\n",
    "## 2. **Based on Data Type**\n",
    "Tensors can store data of different types, such as:\n",
    "- **Integer**: `tf.int32`, `tf.int64`\n",
    "- **Floating point**: `tf.float32`, `tf.float64`\n",
    "- **Boolean**: `tf.bool`\n",
    "- **String**: `tf.string`\n",
    "\n",
    "Example:\n",
    "```python\n",
    "float_tensor = tf.constant([1.0, 2.5, 3.3], dtype=tf.float32)\n",
    "print(float_tensor)  # <tf.Tensor: shape=(3,), dtype=float32>\n",
    "```\n",
    "\n",
    "---\n",
    "\n",
    "## 3. **Based on Mutability**  \n",
    "TensorFlow defines tensors with different mutability characteristics:\n",
    "\n",
    "### **Constant Tensor**\n",
    "- Immutable tensors that cannot change their values after creation.\n",
    "- Created using `tf.constant()`.\n",
    "\n",
    "```python\n",
    "const_tensor = tf.constant([1, 2, 3])\n",
    "```\n",
    "\n",
    "### **Variable Tensor**\n",
    "- Mutable tensors that can change values during model training or execution.\n",
    "- Created using `tf.Variable()`.\n",
    "\n",
    "```python\n",
    "var_tensor = tf.Variable([1, 2, 3])\n",
    "var_tensor.assign([4, 5, 6])  # Modify the tensor\n",
    "```\n",
    "\n",
    "---\n",
    "\n",
    "## 4. **Based on Content (Special Tensors)**  \n",
    "TensorFlow offers several predefined tensors with specific patterns or initializations.\n",
    "\n",
    "### **Zeros Tensor**\n",
    "- A tensor filled with zeros.\n",
    "```python\n",
    "zeros = tf.zeros([2, 3])\n",
    "```\n",
    "\n",
    "### **Ones Tensor**\n",
    "- A tensor filled with ones.\n",
    "```python\n",
    "ones = tf.ones([3, 3])\n",
    "```\n",
    "\n",
    "### **Identity Tensor**\n",
    "- A tensor representing an identity matrix.\n",
    "```python\n",
    "identity = tf.eye(4)  # 4x4 identity matrix\n",
    "```\n",
    "\n",
    "### **Random Tensor**\n",
    "- A tensor filled with random values (uniform or normal distribution).\n",
    "```python\n",
    "random_uniform = tf.random.uniform([2, 2], minval=0, maxval=1)\n",
    "random_normal = tf.random.normal([2, 2], mean=0, stddev=1)\n",
    "```\n",
    "\n",
    "---\n",
    "\n",
    "## 5. **Sparse Tensor**\n",
    "Sparse tensors are used to efficiently represent data with a lot of zeros.\n",
    "\n",
    "```python\n",
    "sparse_tensor = tf.sparse.SparseTensor(\n",
    "    indices=[[0, 0], [1, 2]],\n",
    "    values=[1, 2],\n",
    "    dense_shape=[3, 4]\n",
    ")\n",
    "print(sparse_tensor)\n",
    "```\n",
    "\n",
    "---\n",
    "\n",
    "## 6. **Ragged Tensor**\n",
    "Ragged tensors allow for **variable-length dimensions**, which is useful when working with data like sentences of different lengths.\n",
    "\n",
    "```python\n",
    "ragged_tensor = tf.ragged.constant([[1, 2, 3], [4, 5], [6]])\n",
    "print(ragged_tensor)\n",
    "```\n",
    "\n",
    "---\n",
    "\n",
    "## 7. **TensorArray**\n",
    "- A TensorArray is a **dynamically sized array of tensors**, useful for constructing sequences with unknown lengths during model execution (e.g., RNNs).\n",
    "\n",
    "```python\n",
    "ta = tf.TensorArray(dtype=tf.float32, size=0, dynamic_size=True)\n",
    "ta = ta.write(0, [1.0, 2.0])\n",
    "print(ta.read(0))\n",
    "```\n",
    "\n",
    "---\n",
    "\n",
    "### Summary Table of Tensor Types\n",
    "\n",
    "| **Tensor Type**   | **Description**                                  | **Example Usage**                 |\n",
    "|-------------------|---------------------------------------------------|-----------------------------------|\n",
    "| Scalar (0D)       | Single value                                      | Loss value, learning rate        |\n",
    "| Vector (1D)       | One-dimensional array                             | Weight vector                    |\n",
    "| Matrix (2D)       | Two-dimensional grid                              | Image (grayscale)                |\n",
    "| 3D/4D Tensor      | Multi-dimensional array                           | Batch of RGB images              |\n",
    "| Sparse Tensor     | Efficiently stores mostly-zero data               | Graph data, word embeddings      |\n",
    "| Ragged Tensor     | Stores variable-length data efficiently           | Text sequences of varying lengths|\n",
    "| TensorArray       | Dynamically sized tensor array                    | RNNs with unknown sequence length|\n",
    "\n",
    "---\n",
    "\n",
    "Let me know if you need further clarification!"
   ]
  },
  {
   "cell_type": "code",
   "execution_count": 7,
   "metadata": {},
   "outputs": [
    {
     "name": "stdout",
     "output_type": "stream",
     "text": [
      "tf.Tensor(\n",
      "[[11 22 33]\n",
      " [14 25 36]], shape=(2, 3), dtype=int32)\n"
     ]
    }
   ],
   "source": [
    "# Define two tensors with different shapes\n",
    "a = tf.constant([[1, 2, 3], [4, 5, 6]])  # Shape (2, 3)\n",
    "b = tf.constant([10, 20, 30])            # Shape (3,)\n",
    "\n",
    "# Tensor 'b' will be broadcast to shape (2, 3)\n",
    "result = a + b\n",
    "print(result)\n"
   ]
  },
  {
   "cell_type": "code",
   "execution_count": null,
   "metadata": {},
   "outputs": [],
   "source": []
  },
  {
   "cell_type": "code",
   "execution_count": null,
   "metadata": {},
   "outputs": [],
   "source": []
  },
  {
   "cell_type": "code",
   "execution_count": null,
   "metadata": {},
   "outputs": [],
   "source": []
  }
 ],
 "metadata": {
  "kernelspec": {
   "display_name": "tf",
   "language": "python",
   "name": "python3"
  },
  "language_info": {
   "codemirror_mode": {
    "name": "ipython",
    "version": 3
   },
   "file_extension": ".py",
   "mimetype": "text/x-python",
   "name": "python",
   "nbconvert_exporter": "python",
   "pygments_lexer": "ipython3",
   "version": "3.9.20"
  }
 },
 "nbformat": 4,
 "nbformat_minor": 2
}
